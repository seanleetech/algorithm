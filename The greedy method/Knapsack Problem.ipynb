{
 "cells": [
  {
   "cell_type": "code",
   "execution_count": 1,
   "metadata": {},
   "outputs": [],
   "source": [
    "def greedyKnapsack(m, n, p, w): \n",
    "    # m是重量限制, n是物件的數量\n",
    "    # p是每個物件的profit, x是物件放進去的權重\n",
    "    # w是每個物件的重量, P是總Profit, U是剩餘總重量\n",
    "    x = []\n",
    "    U = m\n",
    "    P = 0\n",
    "    \n",
    "    # 初始化, 把x全部設為0.0\n",
    "    for i in range(n):\n",
    "        x.append(0.0)\n",
    "    \n",
    "    # 一個一個放進去, 若物件重量大於背包剩餘總重, 跳出迴圈另外處理\n",
    "    for j in range(n):\n",
    "        if(w[j] > U):\n",
    "            break\n",
    "        x[j] = 1.0\n",
    "        U -= w[j]\n",
    "        \n",
    "    # 若物件重量大於背包剩餘重量, 測量適當比例放入\n",
    "    if(j <= n):\n",
    "        x[j] = U/w[i]\n",
    "        \n",
    "    # 計算背包總重量, p*k(物件的profit*放進去的量)\n",
    "    for k in range(j+1):\n",
    "        P += p[k] * x[k]\n",
    "        \n",
    "    return P"
   ]
  },
  {
   "cell_type": "code",
   "execution_count": 2,
   "metadata": {},
   "outputs": [],
   "source": [
    "p = [15, 10, 20]\n",
    "w = [5, 4, 10]"
   ]
  },
  {
   "cell_type": "code",
   "execution_count": 3,
   "metadata": {},
   "outputs": [
    {
     "data": {
      "text/plain": [
       "37.0"
      ]
     },
     "execution_count": 3,
     "metadata": {},
     "output_type": "execute_result"
    }
   ],
   "source": [
    "greedyKnapsack(15, 3, p, w)"
   ]
  },
  {
   "cell_type": "code",
   "execution_count": null,
   "metadata": {},
   "outputs": [],
   "source": []
  }
 ],
 "metadata": {
  "kernelspec": {
   "display_name": "Python 3",
   "language": "python",
   "name": "python3"
  },
  "language_info": {
   "codemirror_mode": {
    "name": "ipython",
    "version": 3
   },
   "file_extension": ".py",
   "mimetype": "text/x-python",
   "name": "python",
   "nbconvert_exporter": "python",
   "pygments_lexer": "ipython3",
   "version": "3.8.3"
  }
 },
 "nbformat": 4,
 "nbformat_minor": 4
}
