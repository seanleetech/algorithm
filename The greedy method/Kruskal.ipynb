{
 "cells": [
  {
   "cell_type": "code",
   "execution_count": 1,
   "metadata": {},
   "outputs": [],
   "source": [
    "def Find(i):\n",
    "    while parent[i] >= 0:\n",
    "        i = parent[i]\n",
    "        \n",
    "    return i"
   ]
  },
  {
   "cell_type": "code",
   "execution_count": 2,
   "metadata": {},
   "outputs": [],
   "source": [
    "def Union(i, j):\n",
    "    # 點數合計\n",
    "    temp = parent[i] + parent[j]\n",
    "    \n",
    "    # i的點數較少\n",
    "    if (parent[i] > parent[j]):\n",
    "        parent[i] = j\n",
    "        parent[j] = temp\n",
    "    \n",
    "    # j的點數較少或相等\n",
    "    else:\n",
    "        parent[j] = i\n",
    "        parent[i] = temp"
   ]
  },
  {
   "cell_type": "code",
   "execution_count": 3,
   "metadata": {},
   "outputs": [],
   "source": [
    "cost = [[1,2,10],[3,6,15],[4,6,20],[2,6,25],[1,4,30],[3,5,35],[2,5,40],[1,5,45],[2,3,50],[5,6,55]] #sorted list"
   ]
  },
  {
   "cell_type": "code",
   "execution_count": 4,
   "metadata": {},
   "outputs": [],
   "source": [
    "def Kruskal(cost, n, t):\n",
    "    # E is the set of edges in G\n",
    "    # G has n vertices n個點\n",
    "    # cost[u, v] is the cost of edge(u,v)\n",
    "    # t is the set of edges in the minimum cost spanning tree t個邊\n",
    "    # The final cost is returned.\n",
    "    \n",
    "    # Construct a heap out of the edge costs using heapify;\n",
    "    \n",
    "    # 初始化父陣列\n",
    "    for i in range(n):\n",
    "        parent.append(-1)\n",
    "        \n",
    "    print(parent)\n",
    "        \n",
    "    # e為拿好的邊\n",
    "    \n",
    "    e = 0 \n",
    "    i = 0\n",
    "    mincost = 0.0\n",
    "    \n",
    "    # 若i還有剩且還沒拿完\n",
    "    while(e < n - 1) and (i < t):    #heap no empty\n",
    "        # delete a minimum cost edge(u, v) from the heap\n",
    "        # and reheapify unsing adjust;\n",
    "        u = cost[i][0] - 1\n",
    "        v = cost[i][1] - 1\n",
    "\n",
    "        j = Find(u) #j是u屬於的集合\n",
    "        k = Find(v) #k是v屬於的集合\n",
    "        \n",
    "        if (j != k): #不屬於同集合\n",
    "            print(cost[i])\n",
    "            mincost += cost[i][2]\n",
    "            e += 1\n",
    "            i += 1\n",
    "            Union(j, k)\n",
    "            print(parent)\n",
    "        else:\n",
    "            i += 1\n",
    "        \n",
    "    if(e != n - 1):\n",
    "        print(\"No spanning tree\")\n",
    "    else:\n",
    "        return mincost;"
   ]
  },
  {
   "cell_type": "code",
   "execution_count": 5,
   "metadata": {},
   "outputs": [
    {
     "name": "stdout",
     "output_type": "stream",
     "text": [
      "[-1, -1, -1, -1, -1, -1]\n",
      "[1, 2, 10]\n",
      "[-2, 0, -1, -1, -1, -1]\n",
      "[3, 6, 15]\n",
      "[-2, 0, -2, -1, -1, 2]\n",
      "[4, 6, 20]\n",
      "[-2, 0, -3, 2, -1, 2]\n",
      "[2, 6, 25]\n",
      "[2, 0, -5, 2, -1, 2]\n",
      "[3, 5, 35]\n",
      "[2, 0, -6, 2, 2, 2]\n"
     ]
    },
    {
     "data": {
      "text/plain": [
       "105.0"
      ]
     },
     "execution_count": 5,
     "metadata": {},
     "output_type": "execute_result"
    }
   ],
   "source": [
    "parent = []\n",
    "Kruskal(cost, 6, 10)"
   ]
  },
  {
   "cell_type": "code",
   "execution_count": null,
   "metadata": {},
   "outputs": [],
   "source": []
  }
 ],
 "metadata": {
  "kernelspec": {
   "display_name": "Python 3",
   "language": "python",
   "name": "python3"
  },
  "language_info": {
   "codemirror_mode": {
    "name": "ipython",
    "version": 3
   },
   "file_extension": ".py",
   "mimetype": "text/x-python",
   "name": "python",
   "nbconvert_exporter": "python",
   "pygments_lexer": "ipython3",
   "version": "3.8.3"
  }
 },
 "nbformat": 4,
 "nbformat_minor": 4
}
