{
 "cells": [
  {
   "cell_type": "code",
   "execution_count": 1,
   "metadata": {},
   "outputs": [],
   "source": [
    "def linearMearge(list1, list2):\n",
    "    list3 = []\n",
    "    i = 0\n",
    "    j = 0\n",
    "    \n",
    "    while i < len(list1) and j < len(list2):\n",
    "        \n",
    "        # 比較出小的放進新的list\n",
    "        if (list1[i] > list2[j]):\n",
    "            list3.append(list2[j])\n",
    "            j += 1\n",
    "            \n",
    "        else:\n",
    "            list3.append(list1[i])\n",
    "            i += 1\n",
    "            \n",
    "    # 若其中一個list拿完了，剩下的陣列全部元素放進新list\n",
    "    if (i > len(list1)):\n",
    "        for j in range(j, len(list2)):\n",
    "            list3.append(list2[j])\n",
    "    else:\n",
    "        for i in range(i, len(list1)):\n",
    "            list3.append(list1[i])\n",
    "            \n",
    "    # 傳回新list\n",
    "    return list3"
   ]
  },
  {
   "cell_type": "code",
   "execution_count": 2,
   "metadata": {},
   "outputs": [],
   "source": [
    "list1 = [2, 5, 8, 12, 15]\n",
    "list2 = [3, 4, 7, 9, 10]"
   ]
  },
  {
   "cell_type": "code",
   "execution_count": 3,
   "metadata": {},
   "outputs": [
    {
     "data": {
      "text/plain": [
       "[2, 3, 4, 5, 7, 8, 9, 10, 12, 15]"
      ]
     },
     "execution_count": 3,
     "metadata": {},
     "output_type": "execute_result"
    }
   ],
   "source": [
    "linearMearge(list1, list2)"
   ]
  },
  {
   "cell_type": "code",
   "execution_count": null,
   "metadata": {},
   "outputs": [],
   "source": []
  }
 ],
 "metadata": {
  "kernelspec": {
   "display_name": "Python 3",
   "language": "python",
   "name": "python3"
  },
  "language_info": {
   "codemirror_mode": {
    "name": "ipython",
    "version": 3
   },
   "file_extension": ".py",
   "mimetype": "text/x-python",
   "name": "python",
   "nbconvert_exporter": "python",
   "pygments_lexer": "ipython3",
   "version": "3.8.3"
  }
 },
 "nbformat": 4,
 "nbformat_minor": 4
}
