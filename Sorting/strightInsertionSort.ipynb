{
 "cells": [
  {
   "cell_type": "code",
   "execution_count": 1,
   "metadata": {},
   "outputs": [
    {
     "name": "stdout",
     "output_type": "stream",
     "text": [
      "[1, 3, 4, 5, 7]\n"
     ]
    }
   ],
   "source": [
    "def insertionSort(arr):\n",
    "    for j in range(1, len(arr)):\n",
    "\n",
    "        i = j - 1\n",
    "        key = arr[j]\n",
    "\n",
    "        while key < arr[i] and i >= 0:\n",
    "            arr[i + 1] = arr[i]\n",
    "            i -= 1\n",
    "\n",
    "        arr[i + 1] = key\n",
    "    return arr\n",
    "\n",
    "\n",
    "arr = [7, 5, 1, 4, 3]\n",
    "print(insertionSort(arr))"
   ]
  },
  {
   "cell_type": "code",
   "execution_count": null,
   "metadata": {},
   "outputs": [],
   "source": []
  }
 ],
 "metadata": {
  "kernelspec": {
   "display_name": "Python 3",
   "language": "python",
   "name": "python3"
  },
  "language_info": {
   "codemirror_mode": {
    "name": "ipython",
    "version": 3
   },
   "file_extension": ".py",
   "mimetype": "text/x-python",
   "name": "python",
   "nbconvert_exporter": "python",
   "pygments_lexer": "ipython3",
   "version": "3.8.3"
  }
 },
 "nbformat": 4,
 "nbformat_minor": 4
}
