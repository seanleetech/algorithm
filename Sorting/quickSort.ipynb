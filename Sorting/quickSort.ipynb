{
 "cells": [
  {
   "cell_type": "code",
   "execution_count": 18,
   "metadata": {},
   "outputs": [],
   "source": [
    "def partition(array, start, end):\n",
    "    pivot = array[start]\n",
    "    low = start + 1\n",
    "    high = end\n",
    "    \n",
    "    print('pivot=', pivot)\n",
    "\n",
    "    while True:\n",
    "        # If the current value we're looking at is larger than the pivot\n",
    "        # it's in the right place (right side of pivot) and we can move left,\n",
    "        # to the next element.\n",
    "        # We also need to make sure we haven't surpassed the low pointer, since that\n",
    "        # indicates we have already moved all the elements to their correct side of the pivot\n",
    "        \n",
    "        # 從左邊開始找，找大於Pivot的值\n",
    "        # 若左邊index<右邊index 且 值<pivot，繼續找\n",
    "        while low <= high and array[low] <= pivot:\n",
    "            low = low + 1\n",
    "            print(\"left:\", low)\n",
    "            \n",
    "        # 從右邊開始找，找小於Pivotk的值\n",
    "        while low <= high and array[high] >= pivot:\n",
    "            high = high - 1\n",
    "            print(\"right:\", high)\n",
    "            \n",
    "        # We either found a value for both high and low that is out of order\n",
    "        # or low is higher than high, in which case we exit the loop\n",
    "        if low <= high:\n",
    "            array[low], array[high] = array[high], array[low]\n",
    "            print(array)\n",
    "            # The loop continues\n",
    "        else:\n",
    "            # We exit out of the loop\n",
    "            break\n",
    "\n",
    "    array[start], array[high] = array[high], array[start]\n",
    "    print(array)\n",
    "\n",
    "    return high"
   ]
  },
  {
   "cell_type": "code",
   "execution_count": 15,
   "metadata": {},
   "outputs": [],
   "source": [
    "def quick_sort(array, start, end):\n",
    "    if start >= end:\n",
    "        return\n",
    "\n",
    "    p = partition(array, start, end)\n",
    "    print('p=', p)\n",
    "    \n",
    "    #遞迴\n",
    "    quick_sort(array, start, p-1)\n",
    "    quick_sort(array, p+1, end)"
   ]
  },
  {
   "cell_type": "code",
   "execution_count": 20,
   "metadata": {},
   "outputs": [
    {
     "name": "stdout",
     "output_type": "stream",
     "text": [
      "pivot= 26\n",
      "left: 2\n",
      "[26, 5, 19, 1, 61, 11, 59, 15, 48, 37]\n",
      "left: 3\n",
      "left: 4\n",
      "right: 8\n",
      "right: 7\n",
      "[26, 5, 19, 1, 15, 11, 59, 61, 48, 37]\n",
      "left: 5\n",
      "left: 6\n",
      "right: 6\n",
      "right: 5\n",
      "[11, 5, 19, 1, 15, 26, 59, 61, 48, 37]\n",
      "p= 5\n",
      "pivot= 11\n",
      "left: 2\n",
      "right: 3\n",
      "[11, 5, 1, 19, 15, 26, 59, 61, 48, 37]\n",
      "left: 3\n",
      "right: 2\n",
      "[1, 5, 11, 19, 15, 26, 59, 61, 48, 37]\n",
      "p= 2\n",
      "pivot= 1\n",
      "right: 0\n",
      "[1, 5, 11, 19, 15, 26, 59, 61, 48, 37]\n",
      "p= 0\n",
      "pivot= 19\n",
      "left: 5\n",
      "[1, 5, 11, 15, 19, 26, 59, 61, 48, 37]\n",
      "p= 4\n",
      "pivot= 59\n",
      "[1, 5, 11, 15, 19, 26, 59, 37, 48, 61]\n",
      "left: 8\n",
      "left: 9\n",
      "right: 8\n",
      "[1, 5, 11, 15, 19, 26, 48, 37, 59, 61]\n",
      "p= 8\n",
      "pivot= 48\n",
      "left: 8\n",
      "[1, 5, 11, 15, 19, 26, 37, 48, 59, 61]\n",
      "p= 7\n",
      "[1, 5, 11, 15, 19, 26, 37, 48, 59, 61]\n"
     ]
    }
   ],
   "source": [
    "array = [26, 5, 37, 1, 61, 11, 59, 15, 48, 19]\n",
    "\n",
    "quick_sort(array, 0, len(array) - 1)\n",
    "print(array)"
   ]
  },
  {
   "cell_type": "code",
   "execution_count": null,
   "metadata": {},
   "outputs": [],
   "source": []
  }
 ],
 "metadata": {
  "kernelspec": {
   "display_name": "Python 3",
   "language": "python",
   "name": "python3"
  },
  "language_info": {
   "codemirror_mode": {
    "name": "ipython",
    "version": 3
   },
   "file_extension": ".py",
   "mimetype": "text/x-python",
   "name": "python",
   "nbconvert_exporter": "python",
   "pygments_lexer": "ipython3",
   "version": "3.8.3"
  }
 },
 "nbformat": 4,
 "nbformat_minor": 4
}
