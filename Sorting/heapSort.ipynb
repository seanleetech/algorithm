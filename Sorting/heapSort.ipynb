{
 "cells": [
  {
   "cell_type": "code",
   "execution_count": 2,
   "metadata": {},
   "outputs": [],
   "source": [
    "def adjust(arr, i, n):\n",
    "    child = 2 * i #兒子\n",
    "    item = arr[i] #被選中的數\n",
    "    \n",
    "    while child <= n:   #兒子存在\n",
    "        if child < n and arr[child] < arr[child + 1]:   #右兒子存在\n",
    "            child += 1\n",
    "        \n",
    "        if item >= arr[child]:\n",
    "            break\n",
    "            \n",
    "        arr[child // 2] = arr[child]\n",
    "        child *= 2\n",
    "        break\n",
    "        \n",
    "    arr[int(child // 2)] = item\n",
    "    \n",
    "    print(\"adjust\", arr)"
   ]
  },
  {
   "cell_type": "code",
   "execution_count": 3,
   "metadata": {},
   "outputs": [],
   "source": [
    "def heapify(arr, n):\n",
    "    for i in range(int(n // 2), 1, -1):\n",
    "        adjust(arr, i, n)"
   ]
  },
  {
   "cell_type": "code",
   "execution_count": 12,
   "metadata": {},
   "outputs": [],
   "source": [
    "def heapSort(arr, n):\n",
    "    heapify(arr, n)\n",
    "    \n",
    "    for i in range(n, 1, -1):\n",
    "        arr[i], arr[1] = arr[1], arr[i]\n",
    "        \n",
    "        adjust(arr, 1, i-1)\n",
    "        \n",
    "    return arr"
   ]
  },
  {
   "cell_type": "code",
   "execution_count": 14,
   "metadata": {},
   "outputs": [
    {
     "name": "stdout",
     "output_type": "stream",
     "text": [
      "adjust [0, 22, 11, 13, 2, 10]\n",
      "adjust [0, 13, 11, 10, 2, 22]\n",
      "adjust [0, 11, 2, 10, 13, 22]\n",
      "adjust [0, 10, 2, 11, 13, 22]\n",
      "adjust [0, 2, 10, 11, 13, 22]\n",
      "[0, 2, 10, 11, 13, 22]\n"
     ]
    }
   ],
   "source": [
    "# main\n",
    "arr = [0, 22, 10, 13, 2, 11]\n",
    "heapSort(arr, 5)\n",
    "\n",
    "print(arr)"
   ]
  },
  {
   "cell_type": "code",
   "execution_count": null,
   "metadata": {},
   "outputs": [],
   "source": []
  }
 ],
 "metadata": {
  "kernelspec": {
   "display_name": "Python 3",
   "language": "python",
   "name": "python3"
  },
  "language_info": {
   "codemirror_mode": {
    "name": "ipython",
    "version": 3
   },
   "file_extension": ".py",
   "mimetype": "text/x-python",
   "name": "python",
   "nbconvert_exporter": "python",
   "pygments_lexer": "ipython3",
   "version": "3.8.3"
  }
 },
 "nbformat": 4,
 "nbformat_minor": 4
}
