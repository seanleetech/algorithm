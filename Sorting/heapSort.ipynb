{
 "cells": [
  {
   "cell_type": "code",
   "execution_count": 1,
   "metadata": {},
   "outputs": [],
   "source": [
    "def adjust(arr, i, n):\n",
    "    child = 2 * i #兒子\n",
    "    item = arr[i-1] #被選中的值\n",
    "    \n",
    "    # 代表兒子存在\n",
    "    while child <= n:   \n",
    "        \n",
    "        # 代表右兒子存在，且右兒子>左兒子\n",
    "        if child < n and arr[child-1] < arr[child]: \n",
    "            # 選擇右兒子作為兒子\n",
    "            child += 1\n",
    "        \n",
    "        # 若父值>=子值 跳出迴圈\n",
    "        if item >= arr[child-1]:\n",
    "            break\n",
    "            \n",
    "        # 否則將父值填入兒子\n",
    "        arr[(child // 2)-1] = arr[child-1]\n",
    "        child *= 2\n",
    "    \n",
    "    arr[int(child // 2)-1] = item\n",
    "    \n",
    "    print(\"調整：\", arr)"
   ]
  },
  {
   "cell_type": "code",
   "execution_count": 2,
   "metadata": {},
   "outputs": [],
   "source": [
    "def heapify(arr, n):\n",
    "    for i in range(int(n // 2), 0, -1):\n",
    "        adjust(arr, i, len(arr))"
   ]
  },
  {
   "cell_type": "code",
   "execution_count": 3,
   "metadata": {},
   "outputs": [],
   "source": [
    "def heapSort(arr, n):\n",
    "    heapify(arr, len(arr))\n",
    "    \n",
    "    for i in range(n, 1, -1):\n",
    "        arr[i-1], arr[0] = arr[0], arr[i-1]\n",
    "        print(\"交換：\", arr)\n",
    "        adjust(arr, 1, i-1)\n",
    "        \n",
    "    return arr"
   ]
  },
  {
   "cell_type": "code",
   "execution_count": 4,
   "metadata": {},
   "outputs": [
    {
     "name": "stdout",
     "output_type": "stream",
     "text": [
      "調整： [5, 10, 2, 7, 1]\n",
      "調整： [10, 7, 2, 5, 1]\n",
      "交換： [1, 7, 2, 5, 10]\n",
      "調整： [7, 5, 2, 1, 10]\n",
      "交換： [1, 5, 2, 7, 10]\n",
      "調整： [5, 1, 2, 7, 10]\n",
      "交換： [2, 1, 5, 7, 10]\n",
      "調整： [2, 1, 5, 7, 10]\n",
      "交換： [1, 2, 5, 7, 10]\n",
      "調整： [1, 2, 5, 7, 10]\n",
      "排序後 [1, 2, 5, 7, 10]\n"
     ]
    }
   ],
   "source": [
    "arr = [5, 10, 2, 7, 1]\n",
    "heapSort(arr, len(arr))\n",
    "\n",
    "print(\"排序後\", arr)"
   ]
  },
  {
   "cell_type": "code",
   "execution_count": null,
   "metadata": {},
   "outputs": [],
   "source": []
  }
 ],
 "metadata": {
  "kernelspec": {
   "display_name": "Python 3",
   "language": "python",
   "name": "python3"
  },
  "language_info": {
   "codemirror_mode": {
    "name": "ipython",
    "version": 3
   },
   "file_extension": ".py",
   "mimetype": "text/x-python",
   "name": "python",
   "nbconvert_exporter": "python",
   "pygments_lexer": "ipython3",
   "version": "3.8.3"
  }
 },
 "nbformat": 4,
 "nbformat_minor": 4
}
