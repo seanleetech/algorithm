{
 "cells": [
  {
   "cell_type": "code",
   "execution_count": 1,
   "metadata": {},
   "outputs": [],
   "source": [
    "def mergeSort(inputList):\n",
    "    size = len(inputList)\n",
    "    \n",
    "    if size > 1:\n",
    "        middle = size // 2\n",
    "        left = inputList[:middle]\n",
    "        right = inputList[middle:]\n",
    "        \n",
    "        mergeSort(left)\n",
    "        mergeSort(right)\n",
    "        \n",
    "        p = 0 #左半部的index\n",
    "        q = 0 #右半部的index\n",
    "        r = 0 #原始list的index\n",
    "        \n",
    "        left_size = len(left)\n",
    "        right_size = len(right)\n",
    "        \n",
    "        # 若左右都有值, 比較大小放入原本的list\n",
    "        while p < left_size and q < right_size:\n",
    "            if left[p] < right[q]:\n",
    "                inputList[r] = left[p]\n",
    "                p += 1\n",
    "            else:\n",
    "                inputList[r] = right[q]\n",
    "                q += 1\n",
    "            r += 1\n",
    "            \n",
    "        # 只有左側有值, 放入list\n",
    "        while p < left_size:\n",
    "            inputList[r] = left[p]\n",
    "            p += 1\n",
    "            r += 1\n",
    "            \n",
    "        # 只有右側有值, 放入list\n",
    "        while q < right_size:\n",
    "            inputList[r] = right[q]\n",
    "            q += 1\n",
    "            r += 1\n",
    "            \n",
    "    return inputList"
   ]
  },
  {
   "cell_type": "code",
   "execution_count": 2,
   "metadata": {},
   "outputs": [],
   "source": [
    "inputList = [310, 285, 179, 652, 351, 423, 861, 254, 450, 520]"
   ]
  },
  {
   "cell_type": "code",
   "execution_count": 3,
   "metadata": {},
   "outputs": [
    {
     "data": {
      "text/plain": [
       "[179, 254, 285, 310, 351, 423, 450, 520, 652, 861]"
      ]
     },
     "execution_count": 3,
     "metadata": {},
     "output_type": "execute_result"
    }
   ],
   "source": [
    "mergeSort(inputList)"
   ]
  },
  {
   "cell_type": "code",
   "execution_count": null,
   "metadata": {},
   "outputs": [],
   "source": []
  }
 ],
 "metadata": {
  "kernelspec": {
   "display_name": "Python 3",
   "language": "python",
   "name": "python3"
  },
  "language_info": {
   "codemirror_mode": {
    "name": "ipython",
    "version": 3
   },
   "file_extension": ".py",
   "mimetype": "text/x-python",
   "name": "python",
   "nbconvert_exporter": "python",
   "pygments_lexer": "ipython3",
   "version": "3.8.3"
  }
 },
 "nbformat": 4,
 "nbformat_minor": 4
}
