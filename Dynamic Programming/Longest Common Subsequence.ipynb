{
 "cells": [
  {
   "cell_type": "code",
   "execution_count": 1,
   "metadata": {},
   "outputs": [],
   "source": [
    "def lcs(X, Y, m, n):\n",
    "    # m,n為X,Y字串的長度\n",
    "    # 若m或n為0, 代表沒有lcs\n",
    "    if(m == 0 or n == 0):\n",
    "        return 0\n",
    "    \n",
    "    #比較X[m-1]與Y[n-1], 字串中最後一個字元\n",
    "    #若相等, 則代表只需比較最後一個之前的字串, 再加一(最後一個字元)即可\n",
    "    elif(X[m-1] == Y[n-1]):\n",
    "        return lcs(X, Y, m-1, n-1) + 1\n",
    "    \n",
    "    #若不相等, 就不必比較最後一個字元\n",
    "    else:\n",
    "        return max(lcs(X, Y, m, n-1), lcs(X, Y, m-1, n))"
   ]
  },
  {
   "cell_type": "code",
   "execution_count": 2,
   "metadata": {},
   "outputs": [
    {
     "name": "stdout",
     "output_type": "stream",
     "text": [
      "Lenth of LCS is: 2\n"
     ]
    }
   ],
   "source": [
    "X = \"abcd\"\n",
    "Y = \"aed\"\n",
    "print(\"Lenth of LCS is:\", lcs(X, Y, len(X), len(Y)))"
   ]
  },
  {
   "cell_type": "code",
   "execution_count": 3,
   "metadata": {},
   "outputs": [
    {
     "name": "stdout",
     "output_type": "stream",
     "text": [
      "Lenth of LCS is: 2\n"
     ]
    }
   ],
   "source": [
    "print(\"Lenth of LCS is:\", lcs(X, Y, len(X), len(Y)))"
   ]
  },
  {
   "cell_type": "code",
   "execution_count": null,
   "metadata": {},
   "outputs": [],
   "source": []
  }
 ],
 "metadata": {
  "kernelspec": {
   "display_name": "Python 3",
   "language": "python",
   "name": "python3"
  },
  "language_info": {
   "codemirror_mode": {
    "name": "ipython",
    "version": 3
   },
   "file_extension": ".py",
   "mimetype": "text/x-python",
   "name": "python",
   "nbconvert_exporter": "python",
   "pygments_lexer": "ipython3",
   "version": "3.8.3"
  }
 },
 "nbformat": 4,
 "nbformat_minor": 4
}
